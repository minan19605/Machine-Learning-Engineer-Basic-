{
 "cells": [
  {
   "cell_type": "markdown",
   "metadata": {},
   "source": [
    "Titanic analysis project"
   ]
  },
  {
   "cell_type": "markdown",
   "metadata": {},
   "source": [
    "1. 总人数\n",
    "2. 生还的人数和遇难的人数\n",
    "3. 男性和女性的分别的人数；\n",
    "4. 生还的男性和女性的人数；\n",
    "5. 生还的人的年龄段分布;\n",
    "6. 舱位对生还比例有影响吗？\n",
    "7. 票价高的生还比例高吗？\n",
    "8. 亲戚也在船上的，一起生还吗？还是无关？\n",
    "9. 父母也在船上的，一起生还吗？还是无关？"
   ]
  },
  {
   "cell_type": "code",
   "execution_count": 2,
   "metadata": {},
   "outputs": [],
   "source": [
    "import matplotlib.pyplot as plt\n",
    "import numpy as np\n",
    "import pandas as pd\n",
    "import seaborn as sns\n",
    "import math\n",
    "%matplotlib inline"
   ]
  },
  {
   "cell_type": "code",
   "execution_count": 3,
   "metadata": {},
   "outputs": [
    {
     "data": {
      "text/html": [
       "<div>\n",
       "<style scoped>\n",
       "    .dataframe tbody tr th:only-of-type {\n",
       "        vertical-align: middle;\n",
       "    }\n",
       "\n",
       "    .dataframe tbody tr th {\n",
       "        vertical-align: top;\n",
       "    }\n",
       "\n",
       "    .dataframe thead th {\n",
       "        text-align: right;\n",
       "    }\n",
       "</style>\n",
       "<table border=\"1\" class=\"dataframe\">\n",
       "  <thead>\n",
       "    <tr style=\"text-align: right;\">\n",
       "      <th></th>\n",
       "      <th>PassengerId</th>\n",
       "      <th>Survived</th>\n",
       "      <th>Pclass</th>\n",
       "      <th>Name</th>\n",
       "      <th>Sex</th>\n",
       "      <th>Age</th>\n",
       "      <th>SibSp</th>\n",
       "      <th>Parch</th>\n",
       "      <th>Ticket</th>\n",
       "      <th>Fare</th>\n",
       "      <th>Cabin</th>\n",
       "      <th>Embarked</th>\n",
       "    </tr>\n",
       "  </thead>\n",
       "  <tbody>\n",
       "    <tr>\n",
       "      <th>0</th>\n",
       "      <td>1</td>\n",
       "      <td>0</td>\n",
       "      <td>3</td>\n",
       "      <td>Braund, Mr. Owen Harris</td>\n",
       "      <td>male</td>\n",
       "      <td>22.0</td>\n",
       "      <td>1</td>\n",
       "      <td>0</td>\n",
       "      <td>A/5 21171</td>\n",
       "      <td>7.2500</td>\n",
       "      <td>NaN</td>\n",
       "      <td>S</td>\n",
       "    </tr>\n",
       "    <tr>\n",
       "      <th>1</th>\n",
       "      <td>2</td>\n",
       "      <td>1</td>\n",
       "      <td>1</td>\n",
       "      <td>Cumings, Mrs. John Bradley (Florence Briggs Th...</td>\n",
       "      <td>female</td>\n",
       "      <td>38.0</td>\n",
       "      <td>1</td>\n",
       "      <td>0</td>\n",
       "      <td>PC 17599</td>\n",
       "      <td>71.2833</td>\n",
       "      <td>C85</td>\n",
       "      <td>C</td>\n",
       "    </tr>\n",
       "    <tr>\n",
       "      <th>2</th>\n",
       "      <td>3</td>\n",
       "      <td>1</td>\n",
       "      <td>3</td>\n",
       "      <td>Heikkinen, Miss. Laina</td>\n",
       "      <td>female</td>\n",
       "      <td>26.0</td>\n",
       "      <td>0</td>\n",
       "      <td>0</td>\n",
       "      <td>STON/O2. 3101282</td>\n",
       "      <td>7.9250</td>\n",
       "      <td>NaN</td>\n",
       "      <td>S</td>\n",
       "    </tr>\n",
       "    <tr>\n",
       "      <th>3</th>\n",
       "      <td>4</td>\n",
       "      <td>1</td>\n",
       "      <td>1</td>\n",
       "      <td>Futrelle, Mrs. Jacques Heath (Lily May Peel)</td>\n",
       "      <td>female</td>\n",
       "      <td>35.0</td>\n",
       "      <td>1</td>\n",
       "      <td>0</td>\n",
       "      <td>113803</td>\n",
       "      <td>53.1000</td>\n",
       "      <td>C123</td>\n",
       "      <td>S</td>\n",
       "    </tr>\n",
       "    <tr>\n",
       "      <th>4</th>\n",
       "      <td>5</td>\n",
       "      <td>0</td>\n",
       "      <td>3</td>\n",
       "      <td>Allen, Mr. William Henry</td>\n",
       "      <td>male</td>\n",
       "      <td>35.0</td>\n",
       "      <td>0</td>\n",
       "      <td>0</td>\n",
       "      <td>373450</td>\n",
       "      <td>8.0500</td>\n",
       "      <td>NaN</td>\n",
       "      <td>S</td>\n",
       "    </tr>\n",
       "  </tbody>\n",
       "</table>\n",
       "</div>"
      ],
      "text/plain": [
       "   PassengerId  Survived  Pclass  \\\n",
       "0            1         0       3   \n",
       "1            2         1       1   \n",
       "2            3         1       3   \n",
       "3            4         1       1   \n",
       "4            5         0       3   \n",
       "\n",
       "                                                Name     Sex   Age  SibSp  \\\n",
       "0                            Braund, Mr. Owen Harris    male  22.0      1   \n",
       "1  Cumings, Mrs. John Bradley (Florence Briggs Th...  female  38.0      1   \n",
       "2                             Heikkinen, Miss. Laina  female  26.0      0   \n",
       "3       Futrelle, Mrs. Jacques Heath (Lily May Peel)  female  35.0      1   \n",
       "4                           Allen, Mr. William Henry    male  35.0      0   \n",
       "\n",
       "   Parch            Ticket     Fare Cabin Embarked  \n",
       "0      0         A/5 21171   7.2500   NaN        S  \n",
       "1      0          PC 17599  71.2833   C85        C  \n",
       "2      0  STON/O2. 3101282   7.9250   NaN        S  \n",
       "3      0            113803  53.1000  C123        S  \n",
       "4      0            373450   8.0500   NaN        S  "
      ]
     },
     "execution_count": 3,
     "metadata": {},
     "output_type": "execute_result"
    }
   ],
   "source": [
    "#Load the csv file\n",
    "filename = 'titanic-data.csv'\n",
    "titanic_df = pd.read_csv(filename)\n",
    "titanic_df.head()"
   ]
  },
  {
   "cell_type": "code",
   "execution_count": 4,
   "metadata": {},
   "outputs": [
    {
     "name": "stdout",
     "output_type": "stream",
     "text": [
      "<class 'pandas.core.frame.DataFrame'>\n",
      "RangeIndex: 891 entries, 0 to 890\n",
      "Data columns (total 12 columns):\n",
      "PassengerId    891 non-null int64\n",
      "Survived       891 non-null int64\n",
      "Pclass         891 non-null int64\n",
      "Name           891 non-null object\n",
      "Sex            891 non-null object\n",
      "Age            714 non-null float64\n",
      "SibSp          891 non-null int64\n",
      "Parch          891 non-null int64\n",
      "Ticket         891 non-null object\n",
      "Fare           891 non-null float64\n",
      "Cabin          204 non-null object\n",
      "Embarked       889 non-null object\n",
      "dtypes: float64(2), int64(5), object(5)\n",
      "memory usage: 83.6+ KB\n"
     ]
    }
   ],
   "source": [
    "#查看数据的整体情况\n",
    "titanic_df.info()"
   ]
  },
  {
   "cell_type": "markdown",
   "metadata": {},
   "source": [
    "1. 发现Age字段有较多的‘NaN’值。考虑到714条记录有正常的Age值，足够用于分析。所以决定从总的Dataframe中去掉Age为‘NaN’的记录，只保留714条记录用于分析生还率。\n",
    "2. Cabin字段有效记录数太少，所以不使用这个字段做分析。\n",
    "3. Embarked字段有两个NaN记录，但这个字段是用于记录乘客从哪个港口登船的，明显和生还率无关。\n",
    "4. 其他字段都是完整的"
   ]
  },
  {
   "cell_type": "markdown",
   "metadata": {},
   "source": [
    "## 乘客总体生存情况分析"
   ]
  },
  {
   "cell_type": "code",
   "execution_count": 5,
   "metadata": {},
   "outputs": [
    {
     "name": "stdout",
     "output_type": "stream",
     "text": [
      "891 577 314\n"
     ]
    }
   ],
   "source": [
    "#获取乘客总数\n",
    "\n",
    "Total_number = titanic_df.count()['PassengerId']\n",
    "def get_male_female_number(titanic_df):\n",
    "    result = titanic_df.groupby('Sex')['Sex'].count()\n",
    "    return result['male'], result['female']\n",
    "\n",
    "male_number, female_number = get_male_female_number(titanic_df)\n",
    "print Total_number, male_number, female_number"
   ]
  },
  {
   "cell_type": "markdown",
   "metadata": {},
   "source": [
    "总乘客数是：891\n",
    "\n",
    "女性是：314\n",
    "\n",
    "男性是：577"
   ]
  },
  {
   "cell_type": "code",
   "execution_count": 6,
   "metadata": {},
   "outputs": [
    {
     "name": "stdout",
     "output_type": "stream",
     "text": [
      "Survived  Sex   \n",
      "0         female     81\n",
      "          male      468\n",
      "1         female    233\n",
      "          male      109\n",
      "Name: Sex, dtype: int64\n"
     ]
    },
    {
     "data": {
      "image/png": "[encoded data removed]",
      "text/plain": [
       "<matplotlib.figure.Figure at 0x2edd390>"
      ]
     },
     "metadata": {},
     "output_type": "display_data"
    }
   ],
   "source": [
    "#获取基于性别的人员分布\n",
    "survived_count = titanic_df.groupby(['Survived','Sex'])['Sex'].count()\n",
    "print survived_count\n",
    "labels = ['Female victims','Male victims','Female survived','Male survived']\n",
    "plt.pie(survived_count.values, labels=labels,autopct = '%3.3f%%')\n",
    "plt.show()"
   ]
  },
  {
   "cell_type": "markdown",
   "metadata": {},
   "source": [
    "### 基于性别的生存人数和遇难人数的分布如上图"
   ]
  },
  {
   "cell_type": "code",
   "execution_count": 7,
   "metadata": {},
   "outputs": [
    {
     "data": {
      "text/plain": [
       "Sex\n",
       "female    0.742038\n",
       "male      0.188908\n",
       "Name: Survived, dtype: float64"
      ]
     },
     "execution_count": 7,
     "metadata": {},
     "output_type": "execute_result"
    }
   ],
   "source": [
    "#因为Survived的值是0,1，取基于性别汇总后的均值，就是男性和女性的生还率\n",
    "titanic_df.groupby('Sex')['Survived'].mean()"
   ]
  },
  {
   "cell_type": "code",
   "execution_count": 8,
   "metadata": {},
   "outputs": [
    {
     "data": {
      "image/png": "[encoded data removed]",
      "text/plain": [
       "<matplotlib.figure.Figure at 0xb71ce10>"
      ]
     },
     "metadata": {},
     "output_type": "display_data"
    }
   ],
   "source": [
    "titanic_df.groupby('Sex')['Survived'].mean().plot(kind ='bar')\n",
    "plt.title('Survived base on Sex')\n",
    "plt.ylabel('Survive ratio')\n",
    "plt.show()"
   ]
  },
  {
   "cell_type": "markdown",
   "metadata": {},
   "source": [
    "### 结论：\n",
    "幸存人数为 342 人，\n",
    "\n",
    "其中男性109人，占男性总数的18.9%\n",
    "\n",
    "女性233人,占女性总数的74.2%\n",
    "\n",
    "可以推断女性乘客的生存比例远高于男性"
   ]
  },
  {
   "cell_type": "markdown",
   "metadata": {},
   "source": [
    "## 基于年龄和性别分析生存率"
   ]
  },
  {
   "cell_type": "code",
   "execution_count": 9,
   "metadata": {},
   "outputs": [
    {
     "data": {
      "text/plain": [
       "<matplotlib.figure.Figure at 0xb56e9b0>"
      ]
     },
     "metadata": {},
     "output_type": "display_data"
    },
    {
     "data": {
      "image/png": "[encoded data removed]",
      "text/plain": [
       "<matplotlib.figure.Figure at 0xb53e940>"
      ]
     },
     "metadata": {},
     "output_type": "display_data"
    },
    {
     "name": "stdout",
     "output_type": "stream",
     "text": [
      "Age_group\n",
      "(0, 5]       44\n",
      "(5, 10]      20\n",
      "(10, 15]     19\n",
      "(15, 20]     96\n",
      "(20, 25]    122\n",
      "(25, 30]    108\n",
      "(30, 35]     88\n",
      "(35, 40]     67\n",
      "(40, 45]     47\n",
      "(45, 50]     39\n",
      "(50, 55]     24\n",
      "(55, 60]     18\n",
      "(60, 65]     14\n",
      "(65, 70]      3\n",
      "(70, 75]      4\n",
      "(75, 80]      1\n",
      "(80, 85]      0\n",
      "Name: Survived, dtype: int64\n",
      "\n",
      "Sex        female  male\n",
      "Age_group              \n",
      "(0, 5]       21.0  23.0\n",
      "(5, 10]      10.0  10.0\n",
      "(10, 15]     12.0   7.0\n",
      "(15, 20]     34.0  62.0\n",
      "(20, 25]     45.0  77.0\n",
      "(25, 30]     36.0  72.0\n",
      "(30, 35]     30.0  58.0\n",
      "(35, 40]     25.0  42.0\n",
      "(40, 45]     18.0  29.0\n",
      "(45, 50]     13.0  26.0\n",
      "(50, 55]      8.0  16.0\n",
      "(55, 60]      6.0  12.0\n",
      "(60, 65]      3.0  11.0\n",
      "(65, 70]      NaN   3.0\n",
      "(70, 75]      NaN   4.0\n",
      "(75, 80]      NaN   1.0\n"
     ]
    }
   ],
   "source": [
    "#乘客的年龄分布,以5岁为单位来计算年龄分布\n",
    "bins = np.arange(0,90,5)\n",
    "titanic_df['Age_group'] = pd.cut(titanic_df['Age'],bins)\n",
    "#titanic_df.info()\n",
    "\n",
    "#先去掉年龄是NaN的记录\n",
    "titanic_without_nan = titanic_df[titanic_df.Age >= 0]\n",
    "\n",
    "#再统计年龄段的人数分布，以及年龄段的男女人数分布\n",
    "plt.figure(figsize = (12,5))\n",
    "f, (ax1,ax2) = plt.subplots(1,2)\n",
    "f.set_size_inches((20,8))\n",
    "age_group = titanic_without_nan.groupby('Age_group')[\"Survived\"]\n",
    "\n",
    "#titanic_without_nan.groupby('Age_group')[\"Survived\"].count().unstack().plot(kind='bar',ax=ax1, stacked=False)\n",
    "#print titanic_without_nan.groupby('Age_group')[\"Survived\"].count()\n",
    "age_group.count().plot(kind='bar',ax=ax1,stacked=False)\n",
    "#print titanic_without_nan.groupby(['Age_group','Sex'])['Survived'].count()\n",
    "#titanic_without_nan.groupby(['Age_group','Sex'])[\"Survived\"].count().unstack().plot(kind='bar',ax=ax1, stacked=False)\n",
    "ax1.set_title('Age Distribution')\n",
    "ax1.set_ylabel('Count')\n",
    "\n",
    "#titanic_without_nan.groupby(['Age_group','Sex'])[\"Survived\"].loc(1).count().unstack().plot(kind='bar',ax=ax2)\n",
    "age_gender_group = titanic_without_nan.groupby(['Age_group','Sex'])[\"Survived\"]\n",
    "age_gender_group.count().unstack().plot(kind='bar',ax=ax2,stacked=False)\n",
    "ax2.set_title('Age and Gender Distribution')\n",
    "ax2.set_ylabel('Count')\n",
    "plt.show()\n",
    "\n",
    "print age_group.count()\n",
    "print ''\n",
    "print age_gender_group.count().unstack()"
   ]
  },
  {
   "cell_type": "markdown",
   "metadata": {},
   "source": [
    "基于上述数据，大部分乘客的年龄集中在15岁至50之间。男性和女性的年龄分布也是如此。"
   ]
  },
  {
   "cell_type": "code",
   "execution_count": 10,
   "metadata": {},
   "outputs": [
    {
     "data": {
      "text/plain": [
       "<matplotlib.figure.Figure at 0xbd58080>"
      ]
     },
     "metadata": {},
     "output_type": "display_data"
    },
    {
     "data": {
      "image/png": "[encoded data removed]",
      "text/plain": [
       "<matplotlib.figure.Figure at 0xbd58400>"
      ]
     },
     "metadata": {},
     "output_type": "display_data"
    },
    {
     "name": "stdout",
     "output_type": "stream",
     "text": [
      "Age_group\n",
      "(0, 5]      0.704545\n",
      "(5, 10]     0.350000\n",
      "(10, 15]    0.578947\n",
      "(15, 20]    0.343750\n",
      "(20, 25]    0.344262\n",
      "(25, 30]    0.388889\n",
      "(30, 35]    0.465909\n",
      "(35, 40]    0.417910\n",
      "(40, 45]    0.361702\n",
      "(45, 50]    0.410256\n",
      "(50, 55]    0.416667\n",
      "(55, 60]    0.388889\n",
      "(60, 65]    0.285714\n",
      "(65, 70]    0.000000\n",
      "(70, 75]    0.000000\n",
      "(75, 80]    1.000000\n",
      "(80, 85]         NaN\n",
      "Name: Survived, dtype: float64\n",
      "\n",
      "Sex          female      male\n",
      "Age_group                    \n",
      "(0, 5]     0.761905  0.652174\n",
      "(5, 10]    0.300000  0.400000\n",
      "(10, 15]   0.750000  0.285714\n",
      "(15, 20]   0.735294  0.129032\n",
      "(20, 25]   0.755556  0.103896\n",
      "(25, 30]   0.750000  0.208333\n",
      "(30, 35]   0.866667  0.258621\n",
      "(35, 40]   0.800000  0.190476\n",
      "(40, 45]   0.611111  0.206897\n",
      "(45, 50]   0.769231  0.230769\n",
      "(50, 55]   1.000000  0.125000\n",
      "(55, 60]   0.833333  0.166667\n",
      "(60, 65]   1.000000  0.090909\n",
      "(65, 70]        NaN  0.000000\n",
      "(70, 75]        NaN  0.000000\n",
      "(75, 80]        NaN  1.000000\n"
     ]
    }
   ],
   "source": [
    "#再分析各个年龄段的生还比率\n",
    "plt.figure(figsize = (12,5))\n",
    "f, (ax1,ax2) = plt.subplots(1,2)\n",
    "f.set_size_inches((20,8))\n",
    "#print titanic_without_nan.groupby(['Age_group','Sex'])['Survived'].count()\n",
    "age_group.mean().plot(kind='bar',ax=ax1, stacked=False)\n",
    "ax1.set_title('Age Survived Ratio')\n",
    "ax1.set_ylabel('Ratio')\n",
    "\n",
    "age_gender_group.mean().unstack().plot(kind='bar',ax=ax2)\n",
    "\n",
    "ax2.set_title('Age and Gender Survived ratio')\n",
    "ax2.set_ylabel('Ratio')\n",
    "plt.show()\n",
    "\n",
    "print age_group.mean()\n",
    "print ''\n",
    "print age_gender_group.mean().unstack()"
   ]
  },
  {
   "cell_type": "markdown",
   "metadata": {},
   "source": [
    "从总体年龄的生存比例图形中可以看出，0-5岁儿童和10-15岁少年生存比例较高，其他年龄段比例接近。\n",
    "再分析基于性别的生存比例，可以看出成年人中，女性生存比例远高于男性。而15岁以下生存比例接近。"
   ]
  },
  {
   "cell_type": "markdown",
   "metadata": {},
   "source": [
    "### 结论：\n",
    "综上分析，儿童（10岁以下）和女性生存比例最高"
   ]
  },
  {
   "cell_type": "markdown",
   "metadata": {},
   "source": [
    "## 再考察其他影响生还的因素"
   ]
  },
  {
   "cell_type": "markdown",
   "metadata": {},
   "source": [
    "### 舱位和生还的相关性分析"
   ]
  },
  {
   "cell_type": "code",
   "execution_count": 11,
   "metadata": {},
   "outputs": [
    {
     "name": "stdout",
     "output_type": "stream",
     "text": [
      "Pclass\n",
      "1    216\n",
      "2    184\n",
      "3    491\n",
      "Name: Survived, dtype: int64\n",
      "Pclass\n",
      "1    0.629630\n",
      "2    0.472826\n",
      "3    0.242363\n",
      "Name: Survived, dtype: float64\n",
      "Sex     female  male\n",
      "Pclass              \n",
      "1           94   122\n",
      "2           76   108\n",
      "3          144   347\n",
      "Sex       female      male\n",
      "Pclass                    \n",
      "1       0.968085  0.368852\n",
      "2       0.921053  0.157407\n",
      "3       0.500000  0.135447\n"
     ]
    },
    {
     "data": {
      "text/plain": [
       "<matplotlib.figure.Figure at 0xbe55fd0>"
      ]
     },
     "metadata": {},
     "output_type": "display_data"
    },
    {
     "data": {
      "image/png": "[encoded data removed]",
      "text/plain": [
       "<matplotlib.figure.Figure at 0xc0dfe10>"
      ]
     },
     "metadata": {},
     "output_type": "display_data"
    }
   ],
   "source": [
    "#舱位和生还之间的关系\n",
    "#各个舱位的总人数和生还比例\n",
    "pclass_group = titanic_df.groupby('Pclass')['Survived']\n",
    "print pclass_group.count()\n",
    "print pclass_group.mean()\n",
    "\n",
    "#按性别统计各个舱位的总人数和生还比例\n",
    "pclass_gender_group = titanic_df.groupby(['Pclass','Sex'])['Survived']\n",
    "print pclass_gender_group.count().unstack()\n",
    "print pclass_gender_group.mean().unstack()\n",
    "\n",
    "plt.figure(figsize = (12,5))\n",
    "f, ((ax11,ax12),(ax21,ax22)) = plt.subplots(2,2)\n",
    "f.set_size_inches((20,10))\n",
    "\n",
    "pclass_group.count().plot(kind='bar',ax=ax11)\n",
    "pclass_group.mean().plot(kind='bar',ax=ax12)\n",
    "\n",
    "ax11.set_title('PClass count')\n",
    "ax11.set_ylabel('count')\n",
    "\n",
    "ax12.set_title('PClass Survived Distribution')\n",
    "ax12.set_ylabel('Survived Ratio')\n",
    "\n",
    "pclass_gender_group.count().unstack().plot(kind='bar',ax=ax21)\n",
    "pclass_gender_group.mean().unstack().plot(kind='bar',ax=ax22)\n",
    "\n",
    "ax21.set_title('PClass Gender count')\n",
    "ax21.set_ylabel('Gender count')\n",
    "\n",
    "ax22.set_title('PClass Gender Survived Distribution')\n",
    "ax22.set_ylabel('GenderSurvived Ratio')\n",
    "plt.show()"
   ]
  },
  {
   "cell_type": "markdown",
   "metadata": {},
   "source": [
    "### 结论：\n",
    "可以看出三等舱位的乘客最多，但生还比例最低。\n",
    "一等舱生还比例最高，二等舱稍低一些。\n",
    "各个舱位的女性生还比例比同舱位男性高很多，但三等舱女性生还比例要低很多。\n",
    "是什么原因导致这个现象呢？基于现有数据无法推断。"
   ]
  },
  {
   "cell_type": "markdown",
   "metadata": {},
   "source": [
    "### 票价和生还之间的相关性分析"
   ]
  },
  {
   "cell_type": "code",
   "execution_count": 27,
   "metadata": {
    "scrolled": true
   },
   "outputs": [
    {
     "name": "stdout",
     "output_type": "stream",
     "text": [
      "\n",
      "fare_group_code        0         1         2         3         4         5   \\\n",
      "Pclass                                                                        \n",
      "1                0.000000  0.500000  0.631579  0.676471  0.857143  0.733333   \n",
      "2                0.428571  0.585714  0.666667  0.285714       NaN       NaN   \n",
      "3                0.249377  0.196970  0.384615  0.000000       NaN       NaN   \n",
      "\n",
      "fare_group_code        6         7    8     10   11   12        13   25  \n",
      "Pclass                                                                   \n",
      "1                0.857143  0.666667  1.0  0.75  0.6  0.5  0.666667  1.0  \n",
      "2                     NaN       NaN  NaN   NaN  NaN  NaN       NaN  NaN  \n",
      "3                     NaN       NaN  NaN   NaN  NaN  NaN       NaN  NaN  \n"
     ]
    },
    {
     "data": {
      "image/png": "[encoded data removed]",
      "text/plain": [
       "<matplotlib.figure.Figure at 0xbf3cc50>"
      ]
     },
     "metadata": {},
     "output_type": "display_data"
    }
   ],
   "source": [
    "#票价和生还之间的关系\n",
    "#print titanic_df.groupby('Pclass')['Fare'].describe()\n",
    "print ''\n",
    "bins = np.arange(0,540,20)\n",
    "titanic_df['Fare_group'] = pd.cut(titanic_df['Fare'],bins)\n",
    "titanic_df['fare_group_code'] = titanic_df['Fare_group'].cat.codes\n",
    "\n",
    "#titanic_df.info()\n",
    "titanic_fare_not_nan = titanic_df[titanic_df['Fare']>0]\n",
    "\n",
    "#基于仓位和票价区间分类，计算每个仓位、区间的生还率\n",
    "fare_group = titanic_fare_not_nan.groupby(['Pclass','fare_group_code'])['Survived']\n",
    "print fare_group.mean().unstack()\n",
    "\n",
    "#生成散点图\n",
    "plt.scatter(fare_group.mean()[1].index, fare_group.mean()[1].values, marker = 'x', color = 'm', label='PClass 1', s = 30)\n",
    "plt.scatter(fare_group.mean()[2].index, fare_group.mean()[2].values, marker = '*', color = 'y', label='PClass 2', s = 30)\n",
    "plt.scatter(fare_group.mean()[3].index, fare_group.mean()[3].values, marker = '+', color = 'b', label='PClass 3', s = 30)\n",
    "plt.xlabel('Fare range, unit is $20')\n",
    "plt.ylabel('Survived Ratio')\n",
    "plt.title('Ticket Fare and Survived rate relation')\n",
    "plt.legend()\n",
    "plt.show()\n",
    "\n",
    "#print np.corrcoef(titanic_df['Fare'].values, titanic_df['Survived'].values)[1,0]"
   ]
  },
  {
   "cell_type": "markdown",
   "metadata": {},
   "source": [
    "### 分析结论：从散点图来分析，票价和生还之间的相关性很低"
   ]
  },
  {
   "cell_type": "markdown",
   "metadata": {},
   "source": [
    "### 亲戚和生还之间的相关性分析"
   ]
  },
  {
   "cell_type": "code",
   "execution_count": 28,
   "metadata": {},
   "outputs": [
    {
     "data": {
      "image/png": "[encoded data removed]",
      "text/plain": [
       "<matplotlib.figure.Figure at 0xd98c0b8>"
      ]
     },
     "metadata": {},
     "output_type": "display_data"
    },
    {
     "name": "stdout",
     "output_type": "stream",
     "text": [
      "-0.851638017628\n"
     ]
    }
   ],
   "source": [
    "#Sibling和生还之间的相关性分析\n",
    "titanic_sibling = titanic_df.groupby('SibSp')['Survived']\n",
    "\n",
    "plt.scatter(titanic_sibling.mean().index, titanic_sibling.mean().values, marker = 'x', color = 'm', s = 30)\n",
    "plt.xlabel('Sibling number')\n",
    "plt.ylabel('Survived Ratio')\n",
    "plt.title('Sibling number and Survived rate relation')\n",
    "plt.show()\n",
    "\n",
    "print np.corrcoef(titanic_sibling.mean().index, titanic_sibling.mean().values)[1,0]"
   ]
  },
  {
   "cell_type": "markdown",
   "metadata": {},
   "source": [
    "### 结论：Sibling个数和生还之间的相关性很低"
   ]
  },
  {
   "cell_type": "markdown",
   "metadata": {},
   "source": [
    "### Parent和生还之间的相关性分析"
   ]
  },
  {
   "cell_type": "code",
   "execution_count": 29,
   "metadata": {},
   "outputs": [
    {
     "data": {
      "image/png": "[encoded data removed]",
      "text/plain": [
       "<matplotlib.figure.Figure at 0x2edd0f0>"
      ]
     },
     "metadata": {},
     "output_type": "display_data"
    },
    {
     "name": "stdout",
     "output_type": "stream",
     "text": [
      "-0.681289394707\n"
     ]
    }
   ],
   "source": [
    "#Parent和生还之间的相关性分析\n",
    "titanic_parch = titanic_df.groupby('Parch')['Survived']\n",
    "plt.scatter(titanic_parch.mean().index, titanic_parch.mean().values, marker = 'x', color = 'm', s = 30)\n",
    "plt.xlabel('Kids number')\n",
    "plt.ylabel('Survived Ratio')\n",
    "plt.title('Kids number and Survived rate relation')\n",
    "plt.show()\n",
    "\n",
    "print np.corrcoef(titanic_parch.mean().index, titanic_parch.mean().values)[1,0]"
   ]
  },
  {
   "cell_type": "markdown",
   "metadata": {},
   "source": [
    "### 结论：父母和子女一起在船上的和生还之间的相关性很低"
   ]
  },
  {
   "cell_type": "markdown",
   "metadata": {},
   "source": [
    "## 最终结论："
   ]
  },
  {
   "cell_type": "markdown",
   "metadata": {},
   "source": [
    "基于上述分析，影响生还的主要因素是三个：\n",
    "1. 女性；\n",
    "2. 0-10岁的孩子\n",
    "3. 位于一等舱和二等舱"
   ]
  },
  {
   "cell_type": "markdown",
   "metadata": {},
   "source": [
    "### 可能导致分析有偏差的影响因素\n",
    "\n",
    "1. 样本数量：\n",
    "据网络信息描述“https://baike.baidu.com/item/%E6%B3%B0%E5%9D%A6%E5%B0%BC%E5%85%8B%E5%8F%B7/5677”\n",
    "船上共有2224名人员。本项目提供的数据是891条，但本项目的背景信息中没有描述所提供的数据是否是随机的筛选的。在这里我们假设数据的是随机的，均匀的，并且样本数量达到总样本的三分之一，可以认为满足分析的要求。\n",
    "但如果所提供的数据不是随机的，均匀的，比如所包含的生还的数据（儿童，女性）比例高于实际情况，则可能影响上述分析结论。\n",
    "\n",
    "2. 被删除的记录：\n",
    "在分析年龄的数据的时候，有200多条记录没有年龄数据，我这里采用了删除这些记录，只对剩余的714条记录做分析，如果这被删除的200多条记录中，生还的记录比例很高，这将会导致分析结果产生偏差。或者被删除的记录中，某个年龄段的生还记录比较集中，但是我们没有相关的信息，这导致分析的结果和实际情况之间有偏差。\n",
    "\n",
    "3. 缺失的信息：\n",
    "乘客记录中是包含旅客和船员的，但提供的记录中没有区分哪些是旅客，哪些是船员。也许船员利用便利，获得更多的逃生机会；或者也许船员尽职把逃生机会让给旅客，不同的行为导致船员的生还率发生很大的变化。但目前没有记录可分析。"
   ]
  },
  {
   "cell_type": "code",
   "execution_count": null,
   "metadata": {},
   "outputs": [],
   "source": []
  }
 ],
 "metadata": {
  "kernelspec": {
   "display_name": "Python 2",
   "language": "python",
   "name": "python2"
  },
  "language_info": {
   "codemirror_mode": {
    "name": "ipython",
    "version": 2
   },
   "file_extension": ".py",
   "mimetype": "text/x-python",
   "name": "python",
   "nbconvert_exporter": "python",
   "pygments_lexer": "ipython2",
   "version": "2.7.14"
  }
 },
 "nbformat": 4,
 "nbformat_minor": 2
}
