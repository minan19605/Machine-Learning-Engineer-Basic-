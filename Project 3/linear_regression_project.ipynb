{
 "cells": [
  {
   "cell_type": "code",
   "execution_count": 43,
   "metadata": {},
   "outputs": [],
   "source": [
    "import copy\n",
    "# 任意选一个你喜欢的整数，这能帮你得到稳定的结果\n",
    "seed = 9999"
   ]
  },
  {
   "cell_type": "markdown",
   "metadata": {},
   "source": [
    "# 欢迎来到线性回归项目\n",
    "\n",
    "若项目中的题目有困难没完成也没关系，我们鼓励你带着问题提交项目，评审人会给予你诸多帮助。\n",
    "\n",
    "所有选做题都可以不做，不影响项目通过。如果你做了，那么项目评审会帮你批改，也会因为选做部分做错而判定为不通过。\n",
    "\n",
    "其中非代码题可以提交手写后扫描的 pdf 文件，或使用 Latex 在文档中直接回答。"
   ]
  },
  {
   "cell_type": "markdown",
   "metadata": {},
   "source": [
    "# 1 矩阵运算\n",
    "\n",
    "## 1.1 创建一个 4*4 的单位矩阵"
   ]
  },
  {
   "cell_type": "code",
   "execution_count": 44,
   "metadata": {},
   "outputs": [],
   "source": [
    "# 这个项目设计来帮你熟悉 python list 和线性代数\n",
    "# 你不能调用任何NumPy以及相关的科学计算库来完成作业\n",
    "\n",
    "\n",
    "# 本项目要求矩阵统一使用二维列表表示，如下：\n",
    "A = [[1,2,3], \n",
    "     [2,3,3], \n",
    "     [1,2,5]]\n",
    "\n",
    "B = [[1,2,3,5], \n",
    "     [2,3,3,5], \n",
    "     [1,2,5,1]]\n",
    "\n",
    "# 向量也用二维列表表示\n",
    "C = [[1],\n",
    "     [2],\n",
    "     [3]]\n",
    "\n",
    "#TODO 创建一个 4*4 单位矩阵\n",
    "I = [[1,0,0,0],\n",
    "     [0,1,0,0],\n",
    "     [0,0,1,0],\n",
    "     [0,0,0,1]]"
   ]
  },
  {
   "cell_type": "markdown",
   "metadata": {},
   "source": [
    "## 1.2 返回矩阵的行数和列数"
   ]
  },
  {
   "cell_type": "code",
   "execution_count": 45,
   "metadata": {},
   "outputs": [],
   "source": [
    "# TODO 返回矩阵的行数和列数\n",
    "def shape(matrix):\n",
    "    return len(matrix),len(matrix[0]);"
   ]
  },
  {
   "cell_type": "code",
   "execution_count": 46,
   "metadata": {},
   "outputs": [
    {
     "name": "stderr",
     "output_type": "stream",
     "text": [
      ".\n",
      "----------------------------------------------------------------------\n",
      "Ran 1 test in 0.003s\n",
      "\n",
      "OK\n"
     ]
    }
   ],
   "source": [
    "# 运行以下代码测试你的 shape 函数\n",
    "%run -i -e test.py LinearRegressionTestCase.test_shape"
   ]
  },
  {
   "cell_type": "markdown",
   "metadata": {},
   "source": [
    "## 1.3 每个元素四舍五入到特定小数数位"
   ]
  },
  {
   "cell_type": "code",
   "execution_count": 47,
   "metadata": {},
   "outputs": [],
   "source": [
    "# TODO 每个元素四舍五入到特定小数数位\n",
    "# 直接修改参数矩阵，无返回值\n",
    "def matxRound(matrix, decPts=4):\n",
    "    rows, colomns = shape(matrix);\n",
    "    for i in range(rows):\n",
    "        for j in range(colomns):\n",
    "            matrix[i][j] = round(matrix[i][j], decPts);\n",
    "\n",
    "    return;"
   ]
  },
  {
   "cell_type": "code",
   "execution_count": 48,
   "metadata": {},
   "outputs": [
    {
     "name": "stderr",
     "output_type": "stream",
     "text": [
      ".\n",
      "----------------------------------------------------------------------\n",
      "Ran 1 test in 0.060s\n",
      "\n",
      "OK\n"
     ]
    }
   ],
   "source": [
    "# 运行以下代码测试你的 matxRound 函数\n",
    "%run -i -e test.py LinearRegressionTestCase.test_matxRound"
   ]
  },
  {
   "cell_type": "markdown",
   "metadata": {},
   "source": [
    "## 1.4 计算矩阵的转置"
   ]
  },
  {
   "cell_type": "code",
   "execution_count": 49,
   "metadata": {},
   "outputs": [],
   "source": [
    "# TODO 计算矩阵的转置\n",
    "# matrix 是iterable object，是List类型\n",
    "# *matrix 表示的是 matrix 对象下的所有元素;\n",
    "# 因为matrix对象下的元素都是List，也是iterable object，所以可以作为 zip()的参数;\n",
    "# zip()的作用是把，作为入参的多个 iterable object中的元素，依次取出，通过For 循环，构造出多个 tuple，\n",
    "#然后再通过list（）函数转换成list结构，最后再构造成transpose的matrix\n",
    "# 新实现的函数的性能比之前高的地方在于：减少了队转置矩阵的初始化的For循环操作。\n",
    "def transpose(matrix):\n",
    "    return [list(col) for col in zip(*matrix)];"
   ]
  },
  {
   "cell_type": "code",
   "execution_count": 50,
   "metadata": {},
   "outputs": [
    {
     "name": "stderr",
     "output_type": "stream",
     "text": [
      ".\n",
      "----------------------------------------------------------------------\n",
      "Ran 1 test in 0.006s\n",
      "\n",
      "OK\n"
     ]
    }
   ],
   "source": [
    "# 运行以下代码测试你的 transpose 函数\n",
    "%run -i -e test.py LinearRegressionTestCase.test_transpose"
   ]
  },
  {
   "cell_type": "markdown",
   "metadata": {},
   "source": [
    "## 1.5 计算矩阵乘法 AB"
   ]
  },
  {
   "cell_type": "code",
   "execution_count": 51,
   "metadata": {},
   "outputs": [],
   "source": [
    "# TODO 计算矩阵乘法 AB，如果无法相乘则raise ValueError\n",
    "ALL_ROWS_MUST_BE_SAME_COLOMNS_MSG = 'All rows in one matrix should have same colomns'\n",
    "ROWS_NUMBER_WRONG = 'Index of row is larger than range'\n",
    "\n",
    "def inner_product(list1,list2):\n",
    "    try:\n",
    "        n = len(list1);\n",
    "        assert n == len(list2);\n",
    "    except AssertionError:\n",
    "        raise ValueError;\n",
    "\n",
    "    result = 0\n",
    "    for i in range(n):\n",
    "        result += list1[i]*list2[i];\n",
    "\n",
    "    return result;\n",
    "                        \n",
    "        \n",
    "def matxMultiply(matrixA, matrixB):\n",
    "    try:\n",
    "        rowA,colomnA = shape(matrixA);\n",
    "        rowB,colomnB = shape(matrixB);\n",
    "        assert colomnA == rowB;\n",
    "    except AssertionError:\n",
    "        raise ValueError\n",
    "\n",
    "    new_rows = rowA;\n",
    "    new_colomns = colomnB;\n",
    "\n",
    "    row = [0]*new_colomns;\n",
    "    new_matrix = [list(row) for i in range(new_rows)];\n",
    "    \n",
    "    transpose_matrixB = transpose(matrixB);\n",
    "\n",
    "    for m in range(new_rows):\n",
    "        for n in range(new_colomns):\n",
    "            new_matrix[m][n] = inner_product(matrixA[m],transpose_matrixB[n]);\n",
    "    return new_matrix;"
   ]
  },
  {
   "cell_type": "code",
   "execution_count": 52,
   "metadata": {},
   "outputs": [
    {
     "name": "stderr",
     "output_type": "stream",
     "text": [
      ".\n",
      "----------------------------------------------------------------------\n",
      "Ran 1 test in 0.023s\n",
      "\n",
      "OK\n"
     ]
    }
   ],
   "source": [
    "# 运行以下代码测试你的 matxMultiply 函数\n",
    "%run -i -e test.py LinearRegressionTestCase.test_matxMultiply"
   ]
  },
  {
   "cell_type": "markdown",
   "metadata": {},
   "source": [
    "---\n",
    "\n",
    "# 2 Gaussign Jordan 消元法\n",
    "\n",
    "## 2.1 构造增广矩阵\n",
    "\n",
    "$ A = \\begin{bmatrix}\n",
    "    a_{11}    & a_{12} & ... & a_{1n}\\\\\n",
    "    a_{21}    & a_{22} & ... & a_{2n}\\\\\n",
    "    a_{31}    & a_{22} & ... & a_{3n}\\\\\n",
    "    ...    & ... & ... & ...\\\\\n",
    "    a_{n1}    & a_{n2} & ... & a_{nn}\\\\\n",
    "\\end{bmatrix} , b = \\begin{bmatrix}\n",
    "    b_{1}  \\\\\n",
    "    b_{2}  \\\\\n",
    "    b_{3}  \\\\\n",
    "    ...    \\\\\n",
    "    b_{n}  \\\\\n",
    "\\end{bmatrix}$\n",
    "\n",
    "返回 $ Ab = \\begin{bmatrix}\n",
    "    a_{11}    & a_{12} & ... & a_{1n} & b_{1}\\\\\n",
    "    a_{21}    & a_{22} & ... & a_{2n} & b_{2}\\\\\n",
    "    a_{31}    & a_{22} & ... & a_{3n} & b_{3}\\\\\n",
    "    ...    & ... & ... & ...& ...\\\\\n",
    "    a_{n1}    & a_{n2} & ... & a_{nn} & b_{n} \\end{bmatrix}$"
   ]
  },
  {
   "cell_type": "code",
   "execution_count": 53,
   "metadata": {},
   "outputs": [],
   "source": [
    "# TODO 构造增广矩阵，假设A，b行数相同\n",
    "def augmentMatrix(matrixA, matrixB):\n",
    "    try:\n",
    "        rowA,colomnA = shape(matrixA);\n",
    "        rowB,colomnB = shape(matrixB);\n",
    "        assert rowA == rowB and colomnB == 1\n",
    "    except AssertionError:\n",
    "        raise Exception(ALL_ROWS_MUST_BE_SAME_COLOMNS_MSG);\n",
    "\n",
    "    #new_matrix = copy.deepcopy(matrixA);\n",
    "    #new_rows = rowA;\n",
    "    #for i in range(new_rows):\n",
    "    #    new_matrix[i].append(matrixB[i][0]);\n",
    "    \n",
    "    new_matrix = [list(rowA)+list(rowB) for rowA, rowB in zip(matrixA, matrixB)];\n",
    "       \n",
    "    return new_matrix;"
   ]
  },
  {
   "cell_type": "code",
   "execution_count": 54,
   "metadata": {},
   "outputs": [
    {
     "name": "stderr",
     "output_type": "stream",
     "text": [
      ".\n",
      "----------------------------------------------------------------------\n",
      "Ran 1 test in 0.003s\n",
      "\n",
      "OK\n"
     ]
    }
   ],
   "source": [
    "# 运行以下代码测试你的 augmentMatrix 函数\n",
    "%run -i -e test.py LinearRegressionTestCase.test_augmentMatrix"
   ]
  },
  {
   "cell_type": "markdown",
   "metadata": {},
   "source": [
    "## 2.2 初等行变换\n",
    "- 交换两行\n",
    "- 把某行乘以一个非零常数\n",
    "- 把某行加上另一行的若干倍："
   ]
  },
  {
   "cell_type": "code",
   "execution_count": 55,
   "metadata": {},
   "outputs": [],
   "source": [
    "# TODO r1 <---> r2\n",
    "# 直接修改参数矩阵，无返回值\n",
    "def swapRows(M, r1, r2):\n",
    "    M[r1],M[r2] = M[r2],M[r1];\n",
    "    \n",
    "    return;"
   ]
  },
  {
   "cell_type": "code",
   "execution_count": 56,
   "metadata": {},
   "outputs": [
    {
     "name": "stderr",
     "output_type": "stream",
     "text": [
      ".\n",
      "----------------------------------------------------------------------\n",
      "Ran 1 test in 0.001s\n",
      "\n",
      "OK\n"
     ]
    }
   ],
   "source": [
    "# 运行以下代码测试你的 swapRows 函数\n",
    "%run -i -e test.py LinearRegressionTestCase.test_swapRows"
   ]
  },
  {
   "cell_type": "code",
   "execution_count": 57,
   "metadata": {},
   "outputs": [],
   "source": [
    "# TODO r1 <--- r1 * scale\n",
    "# scale为0是非法输入，要求 raise ValueError\n",
    "# 直接修改参数矩阵，无返回值\n",
    "def scaleRow(M, r, scale):\n",
    "    try:\n",
    "        assert scale != 0;\n",
    "    except AssertionError:\n",
    "        raise ValueError;\n",
    "\n",
    "    rows, colomns = shape(M);\n",
    "    for i in range(colomns):\n",
    "        M[r][i] *= scale;\n",
    "\n",
    "    return ;"
   ]
  },
  {
   "cell_type": "code",
   "execution_count": 58,
   "metadata": {},
   "outputs": [
    {
     "name": "stderr",
     "output_type": "stream",
     "text": [
      ".\n",
      "----------------------------------------------------------------------\n",
      "Ran 1 test in 0.001s\n",
      "\n",
      "OK\n"
     ]
    }
   ],
   "source": [
    "# 运行以下代码测试你的 scaleRow 函数\n",
    "%run -i -e test.py LinearRegressionTestCase.test_scaleRow"
   ]
  },
  {
   "cell_type": "code",
   "execution_count": 59,
   "metadata": {},
   "outputs": [],
   "source": [
    "# TODO r1 <--- r1 + r2*scale\n",
    "# 直接修改参数矩阵，无返回值\n",
    "def addScaledRow(M, r1, r2, scale):\n",
    "    rows, colomns = shape(M);\n",
    "    for i in range(colomns):\n",
    "        M[r1][i] += M[r2][i]*scale;\n",
    "\n",
    "    return ;"
   ]
  },
  {
   "cell_type": "code",
   "execution_count": 60,
   "metadata": {},
   "outputs": [
    {
     "name": "stderr",
     "output_type": "stream",
     "text": [
      ".\n",
      "----------------------------------------------------------------------\n",
      "Ran 1 test in 0.004s\n",
      "\n",
      "OK\n"
     ]
    }
   ],
   "source": [
    "# 运行以下代码测试你的 addScaledRow 函数\n",
    "%run -i -e test.py LinearRegressionTestCase.test_addScaledRow"
   ]
  },
  {
   "cell_type": "markdown",
   "metadata": {},
   "source": [
    "## 2.3  Gaussian Jordan 消元法求解 Ax = b"
   ]
  },
  {
   "cell_type": "markdown",
   "metadata": {},
   "source": [
    "### 2.3.1 算法\n",
    "\n",
    "步骤1 检查A，b是否行数相同\n",
    "\n",
    "步骤2 构造增广矩阵Ab\n",
    "\n",
    "步骤3 逐列转换Ab为化简行阶梯形矩阵 [中文维基链接](https://zh.wikipedia.org/wiki/%E9%98%B6%E6%A2%AF%E5%BD%A2%E7%9F%A9%E9%98%B5#.E5.8C.96.E7.AE.80.E5.90.8E.E7.9A.84-.7Bzh-hans:.E8.A1.8C.3B_zh-hant:.E5.88.97.3B.7D-.E9.98.B6.E6.A2.AF.E5.BD.A2.E7.9F.A9.E9.98.B5)\n",
    "    \n",
    "    对于Ab的每一列（最后一列除外）\n",
    "        当前列为列c\n",
    "        寻找列c中 对角线以及对角线以下所有元素（行 c~N）的绝对值的最大值\n",
    "        如果绝对值最大值为0\n",
    "            那么A为奇异矩阵，返回None (你可以在选做问题2.4中证明为什么这里A一定是奇异矩阵)\n",
    "        否则\n",
    "            使用第一个行变换，将绝对值最大值所在行交换到对角线元素所在行（行c） \n",
    "            使用第二个行变换，将列c的对角线元素缩放为1\n",
    "            多次使用第三个行变换，将列c的其他元素消为0\n",
    "            \n",
    "步骤4 返回Ab的最后一列\n",
    "\n",
    "**注：** 我们并没有按照常规方法先把矩阵转化为行阶梯形矩阵，再转换为化简行阶梯形矩阵，而是一步到位。如果你熟悉常规方法的话，可以思考一下两者的等价性。"
   ]
  },
  {
   "cell_type": "markdown",
   "metadata": {},
   "source": [
    "### 2.3.2 算法推演\n",
    "\n",
    "为了充分了解Gaussian Jordan消元法的计算流程，请根据Gaussian Jordan消元法，分别手动推演矩阵A为***可逆矩阵***，矩阵A为***奇异矩阵***两种情况。"
   ]
  },
  {
   "cell_type": "code",
   "execution_count": 61,
   "metadata": {},
   "outputs": [
    {
     "name": "stdout",
     "output_type": "stream",
     "text": [
      "   7,   5,   3,  -5 ||  1  \n",
      "  -4,   6,   2,  -2 ||  1  \n",
      "  -9,   4,  -5,   9 ||  1  \n",
      "  -9, -10,   5,  -4 ||  1  \n"
     ]
    }
   ],
   "source": [
    "# 不要修改这里！\n",
    "from helper import *\n",
    "\n",
    "A = generateMatrix(4,seed,singular=False)\n",
    "b = np.ones(shape=(4,1)) # it doesn't matter\n",
    "Ab = augmentMatrix(A.tolist(),b.tolist()) # please make sure you already correct implement augmentMatrix\n",
    "printInMatrixFormat(Ab,padding=4,truncating=0)"
   ]
  },
  {
   "cell_type": "markdown",
   "metadata": {},
   "source": [
    "请按照算法的步骤3，逐步推演***可逆矩阵***的变换。\n",
    "\n",
    "在下面列出每一次循环体执行之后的增广矩阵。\n",
    "\n",
    "要求：\n",
    "1. 做分数运算\n",
    "2. 使用`\\frac{n}{m}`来渲染分数，如下：\n",
    " - $\\frac{n}{m}$\n",
    " - $-\\frac{a}{b}$\n",
    "\n",
    "增广矩阵\n",
    "$ Ab = \\begin{bmatrix}\n",
    "    7 & 5 & 3 & -5 & 1\\\\\n",
    "    -4 & 6 & 2 & -2 & 1\\\\\n",
    "    -9 & 4 & -5 & 9 & 1\\\\\n",
    "    -9 & -10 & 5 & -4 & 1\\end{bmatrix}$\n",
    "\n",
    "$ --> \\begin{bmatrix}\n",
    "   -9 & 4 & -5 & 9 & 1\\\\\n",
    "    -4 & 6 & 2 & -2 & 1\\\\\n",
    "   7 & 5 & 3 & -5 & 1\\\\\n",
    "   -9 & -10 & 5 & -4 & 1\\end{bmatrix}$\n",
    "    \n",
    "$ --> \\begin{bmatrix}\n",
    "    1 & -\\frac{4}{9} &\\frac{5}{9} & -1 & -\\frac{1}{9}\\\\\n",
    "    -4 & 6 & 2 & -2 & 1\\\\\n",
    "   7 & 5 & 3 & -5 & 1\\\\\n",
    "   -9 & -10 & 5 & -4 & 1\\end{bmatrix}$\n",
    "    \n",
    "$ --> \\begin{bmatrix}\n",
    "    1 & -\\frac{4}{9} &\\frac{5}{9} & -1 & -\\frac{1}{9}\\\\\n",
    "    0 & 4\\frac{2}{9} & 4\\frac{2}{9} & -6 & \\frac{5}{9}\\\\\n",
    "    0 & 8\\frac{1}{9} & -\\frac{8}{9} & 2 & 1\\frac{7}{9}\\\\\n",
    "    0 & -14 & 10 & -13 & 0\\end{bmatrix}$\n",
    "\n",
    "$ --> \\begin{bmatrix}\n",
    "    1 & -\\frac{4}{9} &\\frac{5}{9} & -1 & -\\frac{1}{9}\\\\\n",
    "    0 & -14 & 10 & -13 & 0\\\\\n",
    "    0 & 8\\frac{1}{9} & -\\frac{8}{9} & 2 & 1\\frac{7}{9}\\\\\n",
    "    0 & 4\\frac{2}{9} & 4\\frac{2}{9} & -6 & \\frac{5}{9}\\end{bmatrix}$\n",
    "    \n",
    "$ --> \\begin{bmatrix}\n",
    "    1 & -\\frac{4}{9} &\\frac{5}{9} & -1 & -\\frac{1}{9}\\\\\n",
    "    0 & 1 & -\\frac{5}{7} & \\frac{13}{14} & 0\\\\\n",
    "    0 & 8\\frac{1}{9} & -\\frac{8}{9} & 2 & 1\\frac{7}{9}\\\\\n",
    "    0 & 4\\frac{2}{9} & 4\\frac{2}{9} & -6 & \\frac{5}{9}\\end{bmatrix}$\n",
    "\n",
    "$ --> \\begin{bmatrix}\n",
    "    1 & 0 & \\frac{5}{21} & -\\frac{37}{63} & -\\frac{1}{9}\\\\\n",
    "    0 & 1 & -\\frac{5}{7} & \\frac{13}{14} & 0\\\\\n",
    "    0 & 0 & 4\\frac{19}{21} & -5\\frac{67}{126} & 1\\frac{7}{9}\\\\\n",
    "    0 & 0 & 7\\frac{5}{21} & -9\\frac{58}{63} & \\frac{5}{9}\\end{bmatrix}$\n",
    "\n",
    "$ --> \\begin{bmatrix}\n",
    "    1 & 0 & \\frac{5}{21} & -\\frac{37}{63} & -\\frac{1}{9}\\\\\n",
    "    0 & 1 & -\\frac{5}{7} & \\frac{13}{14} & 0\\\\\n",
    "    0 & 0 & 7\\frac{5}{21} & -9\\frac{58}{63} & \\frac{5}{9}\\\\\n",
    "    0 & 0 & 4\\frac{19}{21} & -5\\frac{67}{126} & 1\\frac{7}{9}\\end{bmatrix}$\n",
    "    \n",
    "$ --> \\begin{bmatrix}\n",
    "    1 & 0 & \\frac{5}{21} & -\\frac{37}{63} & -\\frac{1}{9}\\\\\n",
    "    0 & 1 & -\\frac{5}{7} & \\frac{13}{14} & 0\\\\\n",
    "    0 & 0 & 1 & -1\\frac{169}{456} & \\frac{35}{456}\\\\\n",
    "    0 & 0 & 4\\frac{19}{21} & -5\\frac{67}{126} & 1\\frac{7}{9}\\end{bmatrix}$\n",
    "\n",
    "$ --> \\begin{bmatrix}\n",
    "    1 & 0 & 0 & -\\frac{119}{456} & -\\frac{59}{456}\\\\\n",
    "    0 & 1 & 0 & -\\frac{23}{456} & \\frac{25}{456}\\\\\n",
    "    0 & 0 & 1 & -1\\frac{169}{456} & \\frac{35}{456}\\\\\n",
    "    0 & 0 & 0 & 1\\frac{29}{152} & 1\\frac{61}{152}\\end{bmatrix}$\n",
    "\n",
    "$ --> \\begin{bmatrix}\n",
    "    1 & 0 & 0 & -\\frac{119}{456} & -\\frac{59}{456}\\\\\n",
    "    0 & 1 & 0 & -\\frac{23}{456} & \\frac{25}{456}\\\\\n",
    "    0 & 0 & 1 & -1\\frac{169}{456} & \\frac{35}{456}\\\\\n",
    "    0 & 0 & 0 & 1 & 1\\frac{32}{181}\\end{bmatrix}$\n",
    "\n",
    "$ --> \\begin{bmatrix}\n",
    "    1 & 0 & 0 & 0 & \\frac{126}{709}\\\\\n",
    "    0 & 1 & 0 & 0 & \\frac{62}{543}\\\\\n",
    "    0 & 0 & 1 & 0 & 1\\frac{20}{29}\\\\\n",
    "    0 & 0 & 0 & 1 & 1\\frac{32}{181}\\end{bmatrix}$\n",
    "$...$"
   ]
  },
  {
   "cell_type": "code",
   "execution_count": 62,
   "metadata": {},
   "outputs": [
    {
     "name": "stdout",
     "output_type": "stream",
     "text": [
      "  -7,  -3,   1,  -9 ||  1  \n",
      "   0,   0,   0,   0 ||  1  \n",
      "  -2,   7,   7,  -3 ||  1  \n",
      "   8,  -5,  -6,   3 ||  1  \n"
     ]
    }
   ],
   "source": [
    "# 不要修改这里！\n",
    "A = generateMatrix(4,seed,singular=True)\n",
    "b = np.ones(shape=(4,1)) # it doesn't matter\n",
    "Ab = augmentMatrix(A.tolist(),b.tolist()) # please make sure you already correct implement augmentMatrix\n",
    "printInMatrixFormat(Ab,padding=4,truncating=0)"
   ]
  },
  {
   "cell_type": "markdown",
   "metadata": {},
   "source": [
    "请按照算法的步骤3，逐步推演***奇异矩阵***的变换。\n",
    "\n",
    "在下面列出每一次循环体执行之后的增广矩阵。\n",
    "\n",
    "要求：\n",
    "1. 做分数运算\n",
    "2. 使用`\\frac{n}{m}`来渲染分数，如下：\n",
    " - $\\frac{n}{m}$\n",
    " - $-\\frac{a}{b}$\n",
    "\n",
    "增广矩阵\n",
    "$ Ab = \\begin{bmatrix}\n",
    "    -7 & -3 & 1 & -9 & 1\\\\\n",
    "    0 & 0 & 0 & 0 & 1\\\\\n",
    "    -2 & 7 & 7 & -3 & 1\\\\\n",
    "    8 & -5 & -6 & 3 & 1\\end{bmatrix}$\n",
    "\n",
    "$ --> \\begin{bmatrix}\n",
    "    8 & -5 & -6 & 3 & 1\\\\\n",
    "    0 & 0 & 0 & 0 & 1\\\\\n",
    "    -2 & 7 & 7 & -3 & 1\\\\\n",
    "   -7 & -3 & 1 & -9 & 1\\end{bmatrix}$\n",
    "    \n",
    "$ --> \\begin{bmatrix}\n",
    "    1 & -\\frac{5}{8} & -\\frac{3}{4} & \\frac{3}{8} & \\frac{1}{8}\\\\\n",
    "    0 & 0 & 0 & 0 & 1\\\\\n",
    "    -2 & 7 & 7 & -3 & 1\\\\\n",
    "   -7 & -3 & 1 & -9 & 1\\end{bmatrix}$\n",
    "\n",
    "$ --> \\begin{bmatrix}\n",
    "    1 & -\\frac{5}{8} & -\\frac{3}{4} & \\frac{3}{8} & \\frac{1}{8}\\\\\n",
    "    0 & 0 & 0 & 0 & 1\\\\\n",
    "    0 & 5\\frac{3}{4} & 5\\frac{1}{2} & -2\\frac{1}{4} & 1\\frac{1}{4}\\\\\n",
    "    0 & -7\\frac{3}{8} & -4\\frac{1}{4} & -6\\frac{3}{8} & 1\\frac{7}{8}\\end{bmatrix}$\n",
    "\n",
    "$ --> \\begin{bmatrix}\n",
    "    1 & -\\frac{5}{8} & -\\frac{3}{4} & \\frac{3}{8} & \\frac{1}{8}\\\\\n",
    "    0 & -7\\frac{3}{8} & -4\\frac{1}{4} & -6\\frac{3}{8} & 1\\frac{7}{8}\\\\\n",
    "    0 & 5\\frac{3}{4} & 5\\frac{1}{2} & -2\\frac{1}{4} & 1\\frac{1}{4}\\\\\n",
    "    0 & 0 & 0 & 0 & 1\\end{bmatrix}$\n",
    "\n",
    "\n",
    "$ --> \\begin{bmatrix}\n",
    "    1 & -\\frac{5}{8} & -\\frac{3}{4} & \\frac{3}{8} & \\frac{1}{8}\\\\\n",
    "    0 & 1 & \\frac{34}{59} & \\frac{51}{59} & -\\frac{15}{59}\\\\\n",
    "    0 & 5\\frac{3}{4} & 5\\frac{1}{2} & -2\\frac{1}{4} & 1\\frac{1}{4}\\\\\n",
    "    0 & 0 & 0 & 0 & 1\\end{bmatrix}$\n",
    "\n",
    "$ --> \\begin{bmatrix}\n",
    "    1 & 0 & -\\frac{23}{59} & \\frac{54}{59} & -\\frac{2}{59}\\\\\n",
    "    0 & 1 & \\frac{34}{59} & \\frac{51}{59} & -\\frac{15}{59}\\\\\n",
    "    0 & 0 & 2\\frac{11}{59} & -7\\frac{13}{59} & 2\\frac{42}{59}\\\\\n",
    "    0 & 0 & 0 & 0 & 1\\end{bmatrix}$\n",
    "\n",
    "$ --> \\begin{bmatrix}\n",
    "    1 & 0 & -\\frac{23}{59} & \\frac{54}{59} & -\\frac{2}{59}\\\\\n",
    "    0 & 1 & \\frac{34}{59} & \\frac{51}{59} & -\\frac{15}{59}\\\\\n",
    "    0 & 0 & 1 & -3\\frac{13}{43} & 1\\frac{31}{129}\\\\\n",
    "    0 & 0 & 0 & 0 & 1\\end{bmatrix}$\n",
    "    \n",
    "$ --> \\begin{bmatrix}\n",
    "    1 & 0 & 0 & -\\frac{16}{43} & \\frac{58}{129}\\\\\n",
    "    0 & 1 & 0 & 2\\frac{33}{43} & -\\frac{125}{129}\\\\\n",
    "    0 & 0 & 1 & -3\\frac{13}{43} & 1\\frac{31}{129}\\\\\n",
    "    0 & 0 & 0 & 0 & 1\\end{bmatrix}$\n",
    "\n",
    "#最后一行的对角线元素为0，所以是奇异矩阵\n",
    "$...$"
   ]
  },
  {
   "cell_type": "markdown",
   "metadata": {},
   "source": [
    "### 2.3.3 实现 Gaussian Jordan 消元法"
   ]
  },
  {
   "cell_type": "code",
   "execution_count": 63,
   "metadata": {},
   "outputs": [],
   "source": [
    "# TODO 实现 Gaussain Jordan 方法求解 Ax = b\n",
    "\n",
    "\"\"\" Gaussian Jordan 方法求解 Ax = b.\n",
    "    参数\n",
    "        A: 方阵 \n",
    "        b: 列向量\n",
    "        decPts: 四舍五入位数，默认为4\n",
    "        epsilon: 判读是否为0的阈值，默认 1.0e-16\n",
    "        \n",
    "    返回列向量 x 使得 Ax = b \n",
    "    返回None，如果 A，b 高度不同\n",
    "    返回None，如果 A 为奇异矩阵\n",
    "\"\"\"\n",
    "\n",
    "def nearZero(value, epsilon = 1.0e-16):\n",
    "    return abs(value)<epsilon;\n",
    "\n",
    "def findMaxAbsValueInColomn(M,c):\n",
    "    row,colomn = shape(M);\n",
    "    maxValue = 0;\n",
    "    loc = -1\n",
    "    for i in range(row):\n",
    "        if i<c:\n",
    "            continue;\n",
    "        if (not nearZero(M[i][c],epsilon = 1.0e-8)) and (abs(M[i][c])>maxValue):\n",
    "            maxValue = abs(M[i][c]);\n",
    "            loc = i;\n",
    "    return loc, maxValue;\n",
    "    \n",
    "\n",
    "def gj_Solve(A, b, decPts=4, epsilon = 1.0e-16):\n",
    "    rowA,colomnA = shape(A);\n",
    "    rowB,colomnB = shape(b);\n",
    "    try:\n",
    "        assert rowA == colomnA;\n",
    "    except AssertionError:\n",
    "        raise Exception(ALL_ROWS_MUST_BE_SAME_COLOMNS_MSG);\n",
    "\n",
    "    if rowA != rowB:\n",
    "        return None; # A,b should have same colomns\n",
    "    \n",
    "    #x = copy.deepcopy(b); #to initialize x list\n",
    "    x = [list(rB) for rB in zip(b)];\n",
    "    Ab = augmentMatrix(A,b);\n",
    "\n",
    "    matxRound(Ab, decPts);\n",
    "\n",
    "    rowAb, colomnAb = shape(Ab);\n",
    "\n",
    "    for c in range(colomnAb-1):\n",
    "        loc, maxValue = findMaxAbsValueInColomn(Ab,c);\n",
    "        if maxValue == 0: #diagonal element and all below element in this colomn are zero\n",
    "            return None; #matrix A is singular matrix;\n",
    "        elif loc != -1:\n",
    "            swapRows(Ab,loc,c);\n",
    "\n",
    "        scale = Ab[c][c]; #find diagonal element\n",
    "        if nearZero(scale, epsilon = 1.0e-8):\n",
    "            continue;\n",
    "\n",
    "        scale = 1.0/scale;\n",
    "        scaleRow(Ab,c,scale);\n",
    "\n",
    "        for r in range(rowAb):\n",
    "            if r != c:\n",
    "                scale= Ab[r][c];\n",
    "                if nearZero(scale, epsilon = 1.0e-8):\n",
    "                    continue;\n",
    "                addScaledRow(Ab,r,c,(-1.0*scale));\n",
    "\n",
    "        for i in range(rowAb):\n",
    "            x[i][0] = Ab[i][colomnAb-1];\n",
    "\n",
    "    return x;\n"
   ]
  },
  {
   "cell_type": "code",
   "execution_count": 64,
   "metadata": {},
   "outputs": [
    {
     "name": "stderr",
     "output_type": "stream",
     "text": [
      ".\n",
      "----------------------------------------------------------------------\n",
      "Ran 1 test in 1.990s\n",
      "\n",
      "OK\n"
     ]
    }
   ],
   "source": [
    "# 运行以下代码测试你的 gj_Solve 函数\n",
    "%run -i -e test.py LinearRegressionTestCase.test_gj_Solve"
   ]
  },
  {
   "cell_type": "markdown",
   "metadata": {},
   "source": [
    "## (选做) 2.4 算法正确判断了奇异矩阵：\n",
    "\n",
    "在算法的步骤3 中，如果发现某一列对角线和对角线以下所有元素都为0，那么则断定这个矩阵为奇异矩阵。\n",
    "\n",
    "我们用正式的语言描述这个命题，并证明为真。\n",
    "\n",
    "证明下面的命题：\n",
    "\n",
    "**如果方阵 A 可以被分为4个部分: ** \n",
    "\n",
    "$ A = \\begin{bmatrix}\n",
    "    I    & X \\\\\n",
    "    Z    & Y \\\\\n",
    "\\end{bmatrix} , \\text{其中 I 为单位矩阵，Z 为全0矩阵，Y 的第一列全0}$，\n",
    "\n",
    "**那么A为奇异矩阵。**\n",
    "\n",
    "提示：从多种角度都可以完成证明\n",
    "- 考虑矩阵 Y 和 矩阵 A 的秩\n",
    "- 考虑矩阵 Y 和 矩阵 A 的行列式\n",
    "- 考虑矩阵 A 的某一列是其他列的线性组合"
   ]
  },
  {
   "cell_type": "markdown",
   "metadata": {},
   "source": [
    "TODO 证明："
   ]
  },
  {
   "cell_type": "markdown",
   "metadata": {},
   "source": [
    "# 3  线性回归"
   ]
  },
  {
   "cell_type": "markdown",
   "metadata": {},
   "source": [
    "## 3.1 随机生成样本点"
   ]
  },
  {
   "cell_type": "code",
   "execution_count": 65,
   "metadata": {},
   "outputs": [
    {
     "data": {
      "image/png": "[encoded data removed]",
      "text/plain": [
       "<matplotlib.figure.Figure at 0x7fbe7c7d4c90>"
      ]
     },
     "metadata": {},
     "output_type": "display_data"
    }
   ],
   "source": [
    "# 不要修改这里！\n",
    "# 运行一次就够了！\n",
    "from helper import *\n",
    "from matplotlib import pyplot as plt\n",
    "%matplotlib inline\n",
    "\n",
    "X,Y = generatePoints(seed,num=100)\n",
    "\n",
    "## 可视化\n",
    "plt.xlim((-5,5))\n",
    "plt.xlabel('x',fontsize=18)\n",
    "plt.ylabel('y',fontsize=18)\n",
    "plt.scatter(X,Y,c='b')\n",
    "plt.show()"
   ]
  },
  {
   "cell_type": "markdown",
   "metadata": {},
   "source": [
    "## 3.2 拟合一条直线\n",
    "\n",
    "### 3.2.1 猜测一条直线"
   ]
  },
  {
   "cell_type": "code",
   "execution_count": 66,
   "metadata": {},
   "outputs": [
    {
     "data": {
      "image/png": "[encoded data removed]",
      "text/plain": [
       "<matplotlib.figure.Figure at 0x7fbe7c736b10>"
      ]
     },
     "metadata": {},
     "output_type": "display_data"
    }
   ],
   "source": [
    "#TODO 请选择最适合的直线 y = mx + b\n",
    "m = 3.2\n",
    "b = 7.5\n",
    "\n",
    "# 不要修改这里！\n",
    "plt.xlim((-5,5))\n",
    "x_vals = plt.axes().get_xlim()\n",
    "y_vals = [m*x+b for x in x_vals]\n",
    "plt.plot(x_vals, y_vals, '-', color='r')\n",
    "\n",
    "plt.xlabel('x',fontsize=18)\n",
    "plt.ylabel('y',fontsize=18)\n",
    "plt.scatter(X,Y,c='b')\n",
    "\n",
    "plt.show()"
   ]
  },
  {
   "cell_type": "markdown",
   "metadata": {},
   "source": [
    "### 3.2.2 计算平均平方误差 (MSE)"
   ]
  },
  {
   "cell_type": "markdown",
   "metadata": {
    "collapsed": true
   },
   "source": [
    "我们要编程计算所选直线的平均平方误差(MSE), 即数据集中每个点到直线的Y方向距离的平方的平均数，表达式如下：\n",
    "$$\n",
    "MSE = \\frac{1}{n}\\sum_{i=1}^{n}{(y_i - mx_i - b)^2}\n",
    "$$"
   ]
  },
  {
   "cell_type": "code",
   "execution_count": 67,
   "metadata": {},
   "outputs": [
    {
     "name": "stdout",
     "output_type": "stream",
     "text": [
      "1.4723437423\n"
     ]
    }
   ],
   "source": [
    "# TODO 实现以下函数并输出所选直线的MSE\n",
    "# X,Y 代表n个点的x1...xn 和 y1...yn。使用单层list[]存储\n",
    "\n",
    "def calculateMSE(X,Y,m,b):\n",
    "    x_len = len(X);\n",
    "    y_len = len(Y);\n",
    "    try:\n",
    "        assert x_len == y_len;\n",
    "    except AssertionError:\n",
    "        raise Exception('X,Y should have same length');\n",
    "\n",
    "    result = 0;\n",
    "    for i in range (x_len):\n",
    "        result += ((Y[i])- m*(X[i])-b)**2;\n",
    "    result /= x_len;\n",
    "    \n",
    "    return result;\n",
    "\n",
    "print(calculateMSE(X,Y,m,b))"
   ]
  },
  {
   "cell_type": "markdown",
   "metadata": {},
   "source": [
    "### 3.2.3 调整参数 $m, b$ 来获得最小的平方平均误差\n",
    "\n",
    "你可以调整3.2.1中的参数 $m,b$ 让蓝点均匀覆盖在红线周围，然后微调 $m, b$ 让MSE最小。"
   ]
  },
  {
   "cell_type": "markdown",
   "metadata": {},
   "source": [
    "## 3.3 (选做) 找到参数 $m, b$ 使得平方平均误差最小\n",
    "\n",
    "**这一部分需要简单的微积分知识(  $ (x^2)' = 2x $ )。因为这是一个线性代数项目，所以设为选做。**\n",
    "\n",
    "刚刚我们手动调节参数，尝试找到最小的平方平均误差。下面我们要精确得求解 $m, b$ 使得平方平均误差最小。\n",
    "\n",
    "定义目标函数 $E$ 为\n",
    "$$\n",
    "E = \\frac{1}{2}\\sum_{i=1}^{n}{(y_i - mx_i - b)^2}\n",
    "$$\n",
    "\n",
    "因为 $E = \\frac{n}{2}MSE$, 所以 $E$ 取到最小值时，$MSE$ 也取到最小值。要找到 $E$ 的最小值，即要找到 $m, b$ 使得 $E$ 相对于 $m$, $E$ 相对于 $b$ 的偏导数等于0. \n",
    "\n",
    "因此我们要解下面的方程组。\n",
    "\n",
    "$$\n",
    "\\begin{cases}\n",
    "\\displaystyle\n",
    "\\frac{\\partial E}{\\partial m} =0 \\\\\n",
    "\\\\\n",
    "\\displaystyle\n",
    "\\frac{\\partial E}{\\partial b} =0 \\\\\n",
    "\\end{cases}\n",
    "$$\n",
    "\n",
    "### 3.3.1 计算目标函数相对于参数的导数\n",
    "首先我们计算两个式子左边的值\n",
    "\n",
    "证明/计算：\n",
    "$$\n",
    "\\frac{\\partial E}{\\partial m} = \\sum_{i=1}^{n}{-x_i(y_i - mx_i - b)}\n",
    "$$\n",
    "\n",
    "$$\n",
    "\\frac{\\partial E}{\\partial b} = \\sum_{i=1}^{n}{-(y_i - mx_i - b)}\n",
    "$$"
   ]
  },
  {
   "cell_type": "markdown",
   "metadata": {},
   "source": [
    "TODO 证明:"
   ]
  },
  {
   "cell_type": "markdown",
   "metadata": {},
   "source": [
    "### 3.3.2 实例推演\n",
    "\n",
    "现在我们有了一个二元二次方程组\n",
    "\n",
    "$$\n",
    "\\begin{cases}\n",
    "\\displaystyle\n",
    "\\sum_{i=1}^{n}{-x_i(y_i - mx_i - b)} =0 \\\\\n",
    "\\\\\n",
    "\\displaystyle\n",
    "\\sum_{i=1}^{n}{-(y_i - mx_i - b)} =0 \\\\\n",
    "\\end{cases}\n",
    "$$\n",
    "\n",
    "为了加强理解，我们用一个实际例子演练。\n",
    "\n",
    "我们要用三个点 $(1,1), (2,2), (3,2)$ 来拟合一条直线 y = m*x + b, 请写出\n",
    "\n",
    "- 目标函数 $E$, \n",
    "- 二元二次方程组，\n",
    "- 并求解最优参数 $m, b$"
   ]
  },
  {
   "cell_type": "markdown",
   "metadata": {},
   "source": [
    "TODO 写出目标函数，方程组和最优参数"
   ]
  },
  {
   "cell_type": "markdown",
   "metadata": {},
   "source": [
    "### 3.3.3 将方程组写成矩阵形式\n",
    "\n",
    "我们的二元二次方程组可以用更简洁的矩阵形式表达，将方程组写成矩阵形式更有利于我们使用 Gaussian Jordan 消元法求解。\n",
    "\n",
    "请证明 \n",
    "$$\n",
    "\\begin{bmatrix}\n",
    "    \\frac{\\partial E}{\\partial m} \\\\\n",
    "    \\frac{\\partial E}{\\partial b} \n",
    "\\end{bmatrix} = X^TXh - X^TY\n",
    "$$\n",
    "\n",
    "其中向量 $Y$, 矩阵 $X$ 和 向量 $h$ 分别为 :\n",
    "$$\n",
    "Y =  \\begin{bmatrix}\n",
    "    y_1 \\\\\n",
    "    y_2 \\\\\n",
    "    ... \\\\\n",
    "    y_n\n",
    "\\end{bmatrix}\n",
    ",\n",
    "X =  \\begin{bmatrix}\n",
    "    x_1 & 1 \\\\\n",
    "    x_2 & 1\\\\\n",
    "    ... & ...\\\\\n",
    "    x_n & 1 \\\\\n",
    "\\end{bmatrix},\n",
    "h =  \\begin{bmatrix}\n",
    "    m \\\\\n",
    "    b \\\\\n",
    "\\end{bmatrix}\n",
    "$$"
   ]
  },
  {
   "cell_type": "markdown",
   "metadata": {},
   "source": [
    "TODO 证明:"
   ]
  },
  {
   "cell_type": "markdown",
   "metadata": {},
   "source": [
    "至此我们知道，通过求解方程 $X^TXh = X^TY$ 来找到最优参数。这个方程十分重要，他有一个名字叫做 **Normal Equation**，也有直观的几何意义。你可以在 [子空间投影](http://open.163.com/movie/2010/11/J/U/M6V0BQC4M_M6V2AJLJU.html) 和 [投影矩阵与最小二乘](http://open.163.com/movie/2010/11/P/U/M6V0BQC4M_M6V2AOJPU.html) 看到更多关于这个方程的内容。"
   ]
  },
  {
   "cell_type": "markdown",
   "metadata": {},
   "source": [
    "### 3.4 求解 $X^TXh = X^TY$ \n",
    "\n",
    "在3.3 中，我们知道线性回归问题等价于求解 $X^TXh = X^TY$ (如果你选择不做3.3，就勇敢的相信吧，哈哈)"
   ]
  },
  {
   "cell_type": "code",
   "execution_count": 68,
   "metadata": {},
   "outputs": [
    {
     "name": "stdout",
     "output_type": "stream",
     "text": [
      "(3.2379091329537433, 7.189888320356643)\n"
     ]
    }
   ],
   "source": [
    "# TODO 实现线性回归\n",
    "'''\n",
    "参数：X, Y\n",
    "返回：m，b\n",
    "'''\n",
    "def linearRegression(X,Y):\n",
    "\n",
    "    list_len = len(X);\n",
    "    matrix_x = [];\n",
    "    matrix_y = [];\n",
    "    x_row = [];\n",
    "    y_row = [];\n",
    "    for i in range(list_len):\n",
    "        x_row.append(X[i]);\n",
    "        x_row.append(1);\n",
    "        matrix_x.append(x_row);\n",
    "        y_row.append(Y[i]);\n",
    "        matrix_y.append(y_row);\n",
    "        x_row = [];\n",
    "        y_row = [];\n",
    "        \n",
    "    transpose_X = transpose(matrix_x);\n",
    "\n",
    "\n",
    "    AX = matxMultiply(transpose_X, matrix_x);\n",
    "    BY = matxMultiply(transpose_X, matrix_y);\n",
    "\n",
    "    result = gj_Solve(AX,BY);\n",
    "    m = result[0][0];\n",
    "    b = result[1][0];\n",
    "    \n",
    "    return m,b\n",
    "\n",
    "m,b = linearRegression(X,Y)\n",
    "print(m,b)"
   ]
  },
  {
   "cell_type": "markdown",
   "metadata": {},
   "source": [
    "你求得的回归结果是什么？\n",
    "请使用运行以下代码将它画出来。"
   ]
  },
  {
   "cell_type": "code",
   "execution_count": 69,
   "metadata": {},
   "outputs": [
    {
     "data": {
      "image/png": "[encoded data removed]",
      "text/plain": [
       "<matplotlib.figure.Figure at 0x7fbe7c709a10>"
      ]
     },
     "metadata": {},
     "output_type": "display_data"
    }
   ],
   "source": [
    "# 请不要修改下面的代码\n",
    "x1,x2 = -5,5\n",
    "y1,y2 = x1*m+b, x2*m+b\n",
    "\n",
    "plt.xlim((-5,5))\n",
    "plt.xlabel('x',fontsize=18)\n",
    "plt.ylabel('y',fontsize=18)\n",
    "plt.scatter(X,Y,c='b')\n",
    "plt.plot((x1,x2),(y1,y2),'r')\n",
    "plt.text(1,2,'y = {m}x + {b}'.format(m=m,b=b))\n",
    "plt.show()"
   ]
  },
  {
   "cell_type": "markdown",
   "metadata": {},
   "source": [
    "你求得的回归结果对当前数据集的MSE是多少？"
   ]
  },
  {
   "cell_type": "code",
   "execution_count": 70,
   "metadata": {},
   "outputs": [
    {
     "data": {
      "text/plain": [
       "1.3549197775413457"
      ]
     },
     "execution_count": 70,
     "metadata": {},
     "output_type": "execute_result"
    }
   ],
   "source": [
    "1.35491977754134580620088108127"
   ]
  },
  {
   "cell_type": "code",
   "execution_count": null,
   "metadata": {},
   "outputs": [],
   "source": []
  }
 ],
 "metadata": {
  "anaconda-cloud": {},
  "celltoolbar": "Raw Cell Format",
  "kernelspec": {
   "display_name": "Python 2",
   "language": "python",
   "name": "python2"
  },
  "language_info": {
   "codemirror_mode": {
    "name": "ipython",
    "version": 2
   },
   "file_extension": ".py",
   "mimetype": "text/x-python",
   "name": "python",
   "nbconvert_exporter": "python",
   "pygments_lexer": "ipython2",
   "version": "2.7.14"
  }
 },
 "nbformat": 4,
 "nbformat_minor": 2
}
